{
 "cells": [
  {
   "cell_type": "code",
   "execution_count": 94,
   "id": "701c4bf6",
   "metadata": {},
   "outputs": [
    {
     "data": {
      "text/html": [
       "<div>\n",
       "<style scoped>\n",
       "    .dataframe tbody tr th:only-of-type {\n",
       "        vertical-align: middle;\n",
       "    }\n",
       "\n",
       "    .dataframe tbody tr th {\n",
       "        vertical-align: top;\n",
       "    }\n",
       "\n",
       "    .dataframe thead th {\n",
       "        text-align: right;\n",
       "    }\n",
       "</style>\n",
       "<table border=\"1\" class=\"dataframe\">\n",
       "  <thead>\n",
       "    <tr style=\"text-align: right;\">\n",
       "      <th></th>\n",
       "      <th>NPHI</th>\n",
       "      <th>RHOB</th>\n",
       "      <th>Lith_new</th>\n",
       "    </tr>\n",
       "  </thead>\n",
       "  <tbody>\n",
       "    <tr>\n",
       "      <th>0</th>\n",
       "      <td>m³/m³</td>\n",
       "      <td>g/cm3</td>\n",
       "      <td>NaN</td>\n",
       "    </tr>\n",
       "    <tr>\n",
       "      <th>1</th>\n",
       "      <td>NaN</td>\n",
       "      <td>NaN</td>\n",
       "      <td>NaN</td>\n",
       "    </tr>\n",
       "    <tr>\n",
       "      <th>2</th>\n",
       "      <td>NaN</td>\n",
       "      <td>NaN</td>\n",
       "      <td>NaN</td>\n",
       "    </tr>\n",
       "    <tr>\n",
       "      <th>3</th>\n",
       "      <td>NaN</td>\n",
       "      <td>NaN</td>\n",
       "      <td>NaN</td>\n",
       "    </tr>\n",
       "    <tr>\n",
       "      <th>4</th>\n",
       "      <td>NaN</td>\n",
       "      <td>NaN</td>\n",
       "      <td>NaN</td>\n",
       "    </tr>\n",
       "    <tr>\n",
       "      <th>...</th>\n",
       "      <td>...</td>\n",
       "      <td>...</td>\n",
       "      <td>...</td>\n",
       "    </tr>\n",
       "    <tr>\n",
       "      <th>30768</th>\n",
       "      <td>0.0711</td>\n",
       "      <td>2.5585</td>\n",
       "      <td>49.0</td>\n",
       "    </tr>\n",
       "    <tr>\n",
       "      <th>30769</th>\n",
       "      <td>0.0711</td>\n",
       "      <td>2.5585</td>\n",
       "      <td>49.0</td>\n",
       "    </tr>\n",
       "    <tr>\n",
       "      <th>30770</th>\n",
       "      <td>0.0711</td>\n",
       "      <td>2.5585</td>\n",
       "      <td>49.0</td>\n",
       "    </tr>\n",
       "    <tr>\n",
       "      <th>30771</th>\n",
       "      <td>0.0711</td>\n",
       "      <td>2.5585</td>\n",
       "      <td>49.0</td>\n",
       "    </tr>\n",
       "    <tr>\n",
       "      <th>30772</th>\n",
       "      <td>0.0711</td>\n",
       "      <td>2.5585</td>\n",
       "      <td>49.0</td>\n",
       "    </tr>\n",
       "  </tbody>\n",
       "</table>\n",
       "<p>30773 rows × 3 columns</p>\n",
       "</div>"
      ],
      "text/plain": [
       "         NPHI    RHOB  Lith_new\n",
       "0       m³/m³   g/cm3       NaN\n",
       "1         NaN     NaN       NaN\n",
       "2         NaN     NaN       NaN\n",
       "3         NaN     NaN       NaN\n",
       "4         NaN     NaN       NaN\n",
       "...       ...     ...       ...\n",
       "30768  0.0711  2.5585      49.0\n",
       "30769  0.0711  2.5585      49.0\n",
       "30770  0.0711  2.5585      49.0\n",
       "30771  0.0711  2.5585      49.0\n",
       "30772  0.0711  2.5585      49.0\n",
       "\n",
       "[30773 rows x 3 columns]"
      ]
     },
     "execution_count": 94,
     "metadata": {},
     "output_type": "execute_result"
    }
   ],
   "source": [
    "# Import & Visualizing dataframe\n",
    "import pandas\n",
    "\n",
    "file_name = 'mp_filtered.csv.csv'\n",
    "well_df = pandas.read_csv(file_name)\n",
    "well_df"
   ]
  },
  {
   "cell_type": "code",
   "execution_count": 95,
   "id": "30ac6fc8",
   "metadata": {},
   "outputs": [
    {
     "data": {
      "text/plain": [
       "array([57., 49.])"
      ]
     },
     "execution_count": 95,
     "metadata": {},
     "output_type": "execute_result"
    }
   ],
   "source": [
    "import numpy as np\n",
    "import math\n",
    "# The well logs units are not necessary, therefore it well be removed\n",
    "well_df = well_df.iloc[1:]\n",
    "\n",
    "# The rows where there are blank well logs values (Nan) won't\n",
    "# contribute in training the model, so it well removed\n",
    "\n",
    "well_df = well_df.dropna()\n",
    "well_df\n",
    "# Next, We'll be intestered only in depth steps where the lithology is either shale (57.0) or \n",
    "#sandstone (49.9). So, the depth steps (rows) with codes corresponding to other lithology codes will be removed\n",
    "well_df.Lith_new.unique()\n",
    "well_df = well_df.loc[~((well_df['Lith_new'] != 57.0) & (well_df['Lith_new'] != 49.0))] \n",
    "\n",
    "well_df\n"
   ]
  },
  {
   "cell_type": "code",
   "execution_count": null,
   "id": "042800dc",
   "metadata": {},
   "outputs": [],
   "source": []
  },
  {
   "cell_type": "code",
   "execution_count": null,
   "id": "ef8c6c94",
   "metadata": {},
   "outputs": [],
   "source": []
  },
  {
   "cell_type": "code",
   "execution_count": null,
   "id": "ff0e6c80",
   "metadata": {},
   "outputs": [],
   "source": []
  }
 ],
 "metadata": {
  "kernelspec": {
   "display_name": "Python 3 (ipykernel)",
   "language": "python",
   "name": "python3"
  },
  "language_info": {
   "codemirror_mode": {
    "name": "ipython",
    "version": 3
   },
   "file_extension": ".py",
   "mimetype": "text/x-python",
   "name": "python",
   "nbconvert_exporter": "python",
   "pygments_lexer": "ipython3",
   "version": "3.9.12"
  }
 },
 "nbformat": 4,
 "nbformat_minor": 5
}
